{
 "cells": [
  {
   "cell_type": "markdown",
   "metadata": {},
   "source": [
    " # Drop Rate in Fishing and Foraging DFK Quests\n",
    " Analysis and Visualization \n",
    " "
   ]
  },
  {
   "cell_type": "code",
   "execution_count": null,
   "metadata": {},
   "outputs": [],
   "source": [
    "from IPython.core.interactiveshell import InteractiveShell\n",
    "InteractiveShell.ast_node_interactivity = \"all\""
   ]
  },
  {
   "cell_type": "code",
   "execution_count": null,
   "metadata": {},
   "outputs": [],
   "source": [
    "import os\n",
    "import pandas as pd\n",
    "import plotly.express as px\n",
    "import plotly.figure_factory as ff\n",
    "import plotly.graph_objects as go\n",
    "from plotly.subplots import make_subplots\n",
    "\n",
    "if not os.path.exists('imgs'):\n",
    "    os.makedirs('imgs')\n",
    "\n",
    "IMG_SIZE = [1000,700]"
   ]
  },
  {
   "cell_type": "code",
   "execution_count": null,
   "metadata": {
    "scrolled": false
   },
   "outputs": [],
   "source": [
    "def plot2d(df,cols3, t, y, decimals=2, img_size = [700,500], img_name = None):\n",
    "    df = pd.pivot_table(df, values=cols3[0], index=cols3[1], columns=[cols3[2]])\n",
    "\n",
    "    fig = ff.create_annotated_heatmap(\n",
    "                z=df.to_numpy().round(decimals=decimals),\n",
    "                x=df.columns.tolist(),\n",
    "                y=df.index.tolist(),\n",
    "                colorscale=['red', 'orange', 'yellow', 'green'],\n",
    "                hoverongaps=True\n",
    "                )\n",
    "\n",
    "    r = fig.update_layout(title_text=f'<i><b>{t}</b></i>',\n",
    "                      yaxis = dict(title=y),\n",
    "                      xaxis = dict(title='Profession Level')\n",
    "                     )\n",
    "    r =fig['layout']['xaxis']['side'] = 'bottom'\n",
    "    r = fig.update_layout(width = img_size[0], height = img_size[1], margin=dict(t=50, l=100))\n",
    "    fig['data'][0]['showscale'] = True\n",
    "    fig.show()\n",
    "    if img_name:\n",
    "        fig.write_image(img_name)"
   ]
  },
  {
   "cell_type": "code",
   "execution_count": null,
   "metadata": {},
   "outputs": [],
   "source": [
    "def df_diff(df1,df2,col,min_cnt):\n",
    "    d1 = df1.groupby(['stats','level'])[col].agg(['mean','count']).reset_index()\n",
    "    d2 = df2.groupby(['stats','level'])[col].agg(['mean','count']).reset_index()\n",
    "    d = pd.merge(d1,d2,on=['stats','level'])\n",
    "    d[col] = d['mean_x']-d['mean_y']\n",
    "    return d[(d['count_x']>min_cnt) &(d['count_y']>min_cnt)]"
   ]
  },
  {
   "cell_type": "code",
   "execution_count": null,
   "metadata": {},
   "outputs": [],
   "source": [
    "usecols = ['level', 'stats', 'stamina', 'DFKGOLD', 'DFKTEARS', 'DFKSHVAS', 'DFKEGG']\n",
    "fo = pd.read_csv('./data/foraging.csv', usecols = usecols)\n",
    "fi = pd.read_csv('./data/fishing.csv', usecols = usecols)"
   ]
  },
  {
   "cell_type": "markdown",
   "metadata": {},
   "source": [
    "# DFKGOLD"
   ]
  },
  {
   "cell_type": "code",
   "execution_count": null,
   "metadata": {
    "scrolled": false
   },
   "outputs": [],
   "source": [
    "for col in ['DFKGOLD']:\n",
    "    min_cnt = 100\n",
    "  \n",
    "    df = fi[fi['stamina'] == 5].groupby(['stats','level'])[col].agg(['mean','count']).reset_index()\n",
    "    df = df[df['level']<=15]\n",
    "    plot2d(df[df['count']>min_cnt], ['mean','stats','level'], f'<b>FISHING</b>: Average {col} per Quest for Fishers','Stats (AGI+LCK)', decimals = 1, img_size = IMG_SIZE, img_name=f'./imgs/{col}_2d_fishing_fishers.png')\n",
    "  \n",
    "    df = fi[fi['stamina'] == 7].groupby(['stats','level'])[col].agg(['mean','count']).reset_index()\n",
    "    df = df[df['level']<=15]\n",
    "    plot2d(df[df['count']>min_cnt], ['mean','stats','level'], f'<b>FISHING</b>: Average {col} per Quest for Non Fishers','Stats (AGI+LCK)', decimals = 1, img_size = IMG_SIZE, img_name=f'./imgs/{col}_2d_fishing_others.png')   \n",
    "\n",
    "    df = df_diff(fi[fi['stamina'] == 5],fi[fi['stamina'] == 7],col,min_cnt)\n",
    "    df = df[df['level']<=15]\n",
    "    plot2d(df,['DFKGOLD','stats','level'],f'FISHING: Fishers vs Non-Fishers: Difference in Average {col} per Quest','stats (AGI+LCK)', decimals = 1, img_size = IMG_SIZE, img_name=f'./imgs/{col}_2d_fishers_vs_non_fishers.png')\n",
    "    print(f\"Fishers earn an average + {df[col].mean():.2} gold per quest in recpect to Non-Fishers\")\n",
    "\n",
    "    df = fo[fo['stamina'] == 5].groupby(['stats','level'])[col].agg(['mean','count']).reset_index()\n",
    "    df = df[df['level']<=15]\n",
    "    plot2d(df[df['count']>min_cnt], ['mean','stats','level'], f'<b>FORAGING</b>: Average {col} per Quest for Foragers','Stats (DEX+INT)', decimals = 1, img_size = IMG_SIZE, img_name=f'./imgs/{col}_2d_foraging_foragers.png')\n",
    "     \n",
    "    df = fo[fo['stamina'] == 7].groupby(['stats','level'])[col].agg(['mean','count']).reset_index()\n",
    "    df = df[df['level']<=15]\n",
    "    plot2d(df[df['count']>min_cnt], ['mean','stats','level'], f'<b>FORAGING</b>: Average {col} per Quest for Non Foragers','Stats (DEX+INT)', decimals = 1, img_size = IMG_SIZE, img_name=f'./imgs/{col}_2d_foraging_others.png')\n",
    "\n",
    "    df = df_diff(fo[fo['stamina'] == 5],fo[fo['stamina'] == 7],col,min_cnt)\n",
    "    df = df[df['level']<=15]\n",
    "    plot2d(df,['DFKGOLD','stats','level'],f'FORAGING: Foragers vs Non-Foragers: Difference in Average {col} per Quest','stats (DEX+INT)', decimals = 1, img_size = IMG_SIZE, img_name=f'./imgs/{col}_2d_foragers_vs_non_foragers.png')\n",
    "    print(f\"Foragers earn an average + {df[col].mean():.2} gold per quest in recpect to Non-Foragers\")\n",
    "    \n",
    "    \n",
    "    min_cnt = 100\n",
    "    df = df_diff(fo[(fo['stamina'] == 5)],fi[fi['stamina'] == 5],col,min_cnt)\n",
    "    df = df[df['level']<=15]\n",
    "    plot2d(df,['DFKGOLD','stats','level'],f'FORAGING Foragers vs FISHING Fishers: Difference in Average {col} per Quest','stats (DEX+INT for Foragers, AGI+LCK for Fishers)', decimals = 1, img_size = IMG_SIZE, img_name=f'./imgs/{col}_2d_fishing_vs_foraging.png')\n",
    "    print(f\"Foragers earn an average + {df[col].mean():.2} gold per quest in recpect to Fishers\")\n"
   ]
  },
  {
   "cell_type": "markdown",
   "metadata": {
    "scrolled": false
   },
   "source": [
    "# Gaia's Tears, Shiva Runes, and Eggs"
   ]
  },
  {
   "cell_type": "code",
   "execution_count": null,
   "metadata": {},
   "outputs": [],
   "source": [
    "def calc_means(d, main_prof, agg ):\n",
    "    d['main_prof'] = d['stamina'].apply(lambda x: main_prof if x ==5 else 'other')\n",
    "    d1 = d.groupby(['main_prof',agg])['DFKGOLD','DFKTEARS','DFKSHVAS','DFKEGG'].agg(['mean','std']).reset_index()\n",
    "    d1.columns = [col[0] if (col[1] == '' or col[1] == 'mean') else '_'.join((col[0], str(col[1])))  for col in d1.columns]\n",
    "    d2 = d.groupby(['main_prof',agg]).agg(count = pd.NamedAgg(column='DFKGOLD',aggfunc='count'))\n",
    "    return pd.merge(d1,d2,on=[agg,'main_prof'])\n",
    "\n",
    "def plot(dfs,column,xaxis, title=\"T\", img_size = [700,500], img_name = None):\n",
    "    fig = make_subplots(specs=[[{\"secondary_y\": False}]])\n",
    "    profession = ['foraging','fishing']\n",
    "    colors=['red','blue']\n",
    "    line_dash = ['dot',None]\n",
    "    i = 0\n",
    "    j = 0\n",
    "    for df in dfs:\n",
    "        for x, tmp in df.groupby('main_prof'):\n",
    "            r = fig.add_trace(\n",
    "                go.Scatter(x=tmp[xaxis], y=tmp[column], name=f\"{profession[i]}_{x}\", line=dict(color=colors[i], dash=line_dash[(j+1)%2])),\n",
    "                secondary_y=False,\n",
    "            )\n",
    "            j+=1\n",
    "        i+=1\n",
    "\n",
    "    r = fig.update_layout(title_text=f\"<b>{title}</b>\")\n",
    "    r = fig.update_xaxes(title_text=xaxis)\n",
    "    r = fig.update_yaxes(title_text='Drop per Quest')\n",
    "    fig.update_layout(legend=dict(\n",
    "        orientation=\"h\",\n",
    "        yanchor=\"bottom\",\n",
    "        y=1,\n",
    "        xanchor=\"left\",\n",
    "        x=0\n",
    "    ))\n",
    "    r = fig.update_layout(width = img_size[0], height = img_size[1])\n",
    "    fig.show()\n",
    "    if img_name:\n",
    "        fig.write_image(img_name)"
   ]
  },
  {
   "cell_type": "code",
   "execution_count": null,
   "metadata": {},
   "outputs": [],
   "source": [
    "fos = calc_means(fo, 'forager','stats')\n",
    "fos = fos[fos['stats']<=25]\n",
    "fis = calc_means(fi, 'fisher','stats')\n",
    "fis = fis[fis['stats']<=25]\n",
    "\n",
    "fol = calc_means(fo,'forager','level')\n",
    "fol = fol[fol['level']<=8]\n",
    "fil = calc_means(fi,'fisher','level')\n",
    "fil = fil[fil['level']<=8]"
   ]
  },
  {
   "cell_type": "code",
   "execution_count": null,
   "metadata": {},
   "outputs": [],
   "source": [
    "for col,decimal in zip(['DFKTEARS','DFKSHVAS','DFKEGG'],[3,3,4]):\n",
    "    min_cnt = 1000\n",
    "    plot([fos,fis], col, 'stats', title=col, img_name = f\"./imgs/{col}_1d_stats.png\")\n",
    "    plot([fol,fil], col, 'level', title=col, img_name = f\"./imgs/{col}_1d_level.png\")\n",
    "#     df = fo[fo['stamina'] == 5].groupby(['stats','level'])[col].agg(['mean','count']).reset_index()\n",
    "#     plot2d(df[df['count']>min_cnt] ,['mean','stats','level'],f'Foragers Average {col} per Quest','Stats (DEX+INT)',decimal, img_size = IMG_SIZE, img_name = f\"./imgs/{col}_2d_foragers.png\")\n",
    "#     df = fi[fi['stamina'] == 5].groupby(['stats','level'])[col].agg(['mean','count']).reset_index()\n",
    "#     plot2d(df[df['count']>min_cnt] ,['mean','stats','level'],f'Fishers Average {col} per Quest','Stats (AGI+LCK)',decimal, img_size = IMG_SIZE, img_name = f\"./imgs/{col}_2d_foragers.png\")"
   ]
  }
 ],
 "metadata": {
  "kernelspec": {
   "display_name": "Python 3",
   "language": "python",
   "name": "python3"
  },
  "language_info": {
   "codemirror_mode": {
    "name": "ipython",
    "version": 3
   },
   "file_extension": ".py",
   "mimetype": "text/x-python",
   "name": "python",
   "nbconvert_exporter": "python",
   "pygments_lexer": "ipython3",
   "version": "3.6.9"
  }
 },
 "nbformat": 4,
 "nbformat_minor": 2
}
